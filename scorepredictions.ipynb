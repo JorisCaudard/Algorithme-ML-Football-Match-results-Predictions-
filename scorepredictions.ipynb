{
 "cells": [
  {
   "cell_type": "markdown",
   "metadata": {},
   "source": [
    "Projet de ML algorithmes Thomas Pasquier et Joris Caudard \n",
    "Introduction: Le but de ce projet, est de classifier les resultat des matchs de football en fonction des odds données par les bookers de pari en ligne.Il s'agit d'une classification avec 3 classes, match nulle, homeplayer, away team. \n"
   ]
  },
  {
   "cell_type": "code",
   "execution_count": 4,
   "metadata": {},
   "outputs": [],
   "source": [
    "import pandas as pd\n",
    "import matplotlib.pyplot as plt\n",
    "import numpy as np\n",
    "import sklearn\n",
    "import seaborn as sns\n"
   ]
  },
  {
   "cell_type": "code",
   "execution_count": null,
   "metadata": {},
   "outputs": [],
   "source": []
  },
  {
   "cell_type": "code",
   "execution_count": 6,
   "metadata": {},
   "outputs": [
    {
     "name": "stdout",
     "output_type": "stream",
     "text": [
      "<class 'pandas.core.frame.DataFrame'>\n",
      "RangeIndex: 189 entries, 0 to 188\n",
      "Columns: 105 entries, Div to AvgCAHA\n",
      "dtypes: float64(82), int64(16), object(7)\n",
      "memory usage: 155.2+ KB\n"
     ]
    }
   ],
   "source": [
    "match_data = pd.read_csv(\"Data/F1.csv\")\n",
    "match_data.head(5)\n",
    "match_data.info()"
   ]
  },
  {
   "cell_type": "code",
   "execution_count": null,
   "metadata": {},
   "outputs": [],
   "source": []
  },
  {
   "cell_type": "markdown",
   "metadata": {},
   "source": [
    "https://github.com/statsbomb/statsbombpy source a regarder"
   ]
  }
 ],
 "metadata": {
  "kernelspec": {
   "display_name": "Python 3",
   "language": "python",
   "name": "python3"
  },
  "language_info": {
   "codemirror_mode": {
    "name": "ipython",
    "version": 3
   },
   "file_extension": ".py",
   "mimetype": "text/x-python",
   "name": "python",
   "nbconvert_exporter": "python",
   "pygments_lexer": "ipython3",
   "version": "3.10.12"
  }
 },
 "nbformat": 4,
 "nbformat_minor": 2
}
